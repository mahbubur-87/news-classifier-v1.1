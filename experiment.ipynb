{
 "cells": [
  {
   "cell_type": "code",
   "execution_count": 3,
   "id": "94567baa-b7ef-45db-9692-78aab283cb7f",
   "metadata": {},
   "outputs": [
    {
     "name": "stdout",
     "output_type": "stream",
     "text": [
      "Collecting newspaper3k\n",
      "  Downloading newspaper3k-0.2.8-py3-none-any.whl (211 kB)\n",
      "\u001b[K     |████████████████████████████████| 211 kB 2.2 MB/s eta 0:00:01\n",
      "\u001b[?25hCollecting tinysegmenter==0.3\n",
      "  Downloading tinysegmenter-0.3.tar.gz (16 kB)\n",
      "Collecting feedparser>=5.2.1\n",
      "  Downloading feedparser-6.0.8-py3-none-any.whl (81 kB)\n",
      "\u001b[K     |████████████████████████████████| 81 kB 1.2 MB/s eta 0:00:011\n",
      "\u001b[?25hCollecting Pillow>=3.3.0\n",
      "  Downloading Pillow-8.2.0-cp37-cp37m-manylinux1_x86_64.whl (3.0 MB)\n",
      "\u001b[K     |████████████████████████████████| 3.0 MB 27.4 MB/s eta 0:00:01\n",
      "\u001b[?25hCollecting cssselect>=0.9.2\n",
      "  Downloading cssselect-1.1.0-py2.py3-none-any.whl (16 kB)\n",
      "Requirement already satisfied: requests>=2.10.0 in /home/mahbubur/anaconda3/envs/blink37/lib/python3.7/site-packages (from newspaper3k) (2.25.1)\n",
      "Collecting feedfinder2>=0.0.4\n",
      "  Downloading feedfinder2-0.0.4.tar.gz (3.3 kB)\n",
      "Requirement already satisfied: python-dateutil>=2.5.3 in /home/mahbubur/anaconda3/envs/blink37/lib/python3.7/site-packages (from newspaper3k) (2.8.1)\n",
      "Collecting jieba3k>=0.35.1\n",
      "  Downloading jieba3k-0.35.1.zip (7.4 MB)\n",
      "\u001b[K     |████████████████████████████████| 7.4 MB 2.8 MB/s eta 0:00:01\n",
      "\u001b[?25hCollecting tldextract>=2.0.1\n",
      "  Downloading tldextract-3.1.0-py2.py3-none-any.whl (87 kB)\n",
      "\u001b[K     |████████████████████████████████| 87 kB 871 kB/s eta 0:00:01\n",
      "\u001b[?25hRequirement already satisfied: nltk>=3.2.1 in /home/mahbubur/anaconda3/envs/blink37/lib/python3.7/site-packages (from newspaper3k) (3.4.5)\n",
      "Collecting PyYAML>=3.11\n",
      "  Downloading PyYAML-5.4.1-cp37-cp37m-manylinux1_x86_64.whl (636 kB)\n",
      "\u001b[K     |████████████████████████████████| 636 kB 3.8 MB/s eta 0:00:01\n",
      "\u001b[?25hCollecting beautifulsoup4>=4.4.1\n",
      "  Using cached beautifulsoup4-4.9.3-py3-none-any.whl (115 kB)\n",
      "Requirement already satisfied: lxml>=3.6.0 in /home/mahbubur/anaconda3/envs/blink37/lib/python3.7/site-packages (from newspaper3k) (4.6.3)\n",
      "Collecting soupsieve>1.2\n",
      "  Downloading soupsieve-2.2.1-py3-none-any.whl (33 kB)\n",
      "Requirement already satisfied: six in /home/mahbubur/anaconda3/envs/blink37/lib/python3.7/site-packages (from feedfinder2>=0.0.4->newspaper3k) (1.16.0)\n",
      "Collecting sgmllib3k\n",
      "  Downloading sgmllib3k-1.0.0.tar.gz (5.8 kB)\n",
      "Requirement already satisfied: chardet<5,>=3.0.2 in /home/mahbubur/anaconda3/envs/blink37/lib/python3.7/site-packages (from requests>=2.10.0->newspaper3k) (4.0.0)\n",
      "Requirement already satisfied: idna<3,>=2.5 in /home/mahbubur/anaconda3/envs/blink37/lib/python3.7/site-packages (from requests>=2.10.0->newspaper3k) (2.10)\n",
      "Requirement already satisfied: certifi>=2017.4.17 in /home/mahbubur/anaconda3/envs/blink37/lib/python3.7/site-packages (from requests>=2.10.0->newspaper3k) (2021.5.30)\n",
      "Requirement already satisfied: urllib3<1.27,>=1.21.1 in /home/mahbubur/anaconda3/envs/blink37/lib/python3.7/site-packages (from requests>=2.10.0->newspaper3k) (1.26.5)\n",
      "Collecting requests-file>=1.4\n",
      "  Downloading requests_file-1.5.1-py2.py3-none-any.whl (3.7 kB)\n",
      "Requirement already satisfied: filelock>=3.0.8 in /home/mahbubur/anaconda3/envs/blink37/lib/python3.7/site-packages (from tldextract>=2.0.1->newspaper3k) (3.0.12)\n",
      "Building wheels for collected packages: tinysegmenter, feedfinder2, jieba3k, sgmllib3k\n",
      "  Building wheel for tinysegmenter (setup.py) ... \u001b[?25ldone\n",
      "\u001b[?25h  Created wheel for tinysegmenter: filename=tinysegmenter-0.3-py3-none-any.whl size=13537 sha256=05748acec8e05633326287ada853d64aa4c932daa51af0595443f45f5d160c73\n",
      "  Stored in directory: /home/mahbubur/.cache/pip/wheels/df/67/41/faca10fa501ca010be41b49d40360c2959e1c4f09bcbfa37fa\n",
      "  Building wheel for feedfinder2 (setup.py) ... \u001b[?25ldone\n",
      "\u001b[?25h  Created wheel for feedfinder2: filename=feedfinder2-0.0.4-py3-none-any.whl size=3354 sha256=97e14d716fc591a0e64112a90f7e0e2ad5b08e96ef64692f3ea18df03e7368bb\n",
      "  Stored in directory: /home/mahbubur/.cache/pip/wheels/7f/d4/8f/6e2ca54744c9d7292d88ddb8d42876bcdab5e6d84a21c10346\n",
      "  Building wheel for jieba3k (setup.py) ... \u001b[?25ldone\n",
      "\u001b[?25h  Created wheel for jieba3k: filename=jieba3k-0.35.1-py3-none-any.whl size=7398406 sha256=8ff11b899f3fa575bc780d1ebcccfd77ffa73562730e6c4905b6fa958e70dc73\n",
      "  Stored in directory: /home/mahbubur/.cache/pip/wheels/4c/91/46/3c208287b726df325a5979574324878b679116e4baae1af3c3\n",
      "  Building wheel for sgmllib3k (setup.py) ... \u001b[?25ldone\n",
      "\u001b[?25h  Created wheel for sgmllib3k: filename=sgmllib3k-1.0.0-py3-none-any.whl size=6065 sha256=f47b38d46348c1fc5ddb9f4d85283bee2d30dd3a1c02d88e5df8f8aa88adb75d\n",
      "  Stored in directory: /home/mahbubur/.cache/pip/wheels/73/ad/a4/0dff4a6ef231fc0dfa12ffbac2a36cebfdddfe059f50e019aa\n",
      "Successfully built tinysegmenter feedfinder2 jieba3k sgmllib3k\n",
      "Installing collected packages: soupsieve, sgmllib3k, requests-file, beautifulsoup4, tldextract, tinysegmenter, PyYAML, Pillow, jieba3k, feedparser, feedfinder2, cssselect, newspaper3k\n",
      "Successfully installed Pillow-8.2.0 PyYAML-5.4.1 beautifulsoup4-4.9.3 cssselect-1.1.0 feedfinder2-0.0.4 feedparser-6.0.8 jieba3k-0.35.1 newspaper3k-0.2.8 requests-file-1.5.1 sgmllib3k-1.0.0 soupsieve-2.2.1 tinysegmenter-0.3 tldextract-3.1.0\n",
      "Note: you may need to restart the kernel to use updated packages.\n"
     ]
    }
   ],
   "source": [
    "%pip install newspaper3k"
   ]
  },
  {
   "cell_type": "code",
   "execution_count": 52,
   "id": "54f6230c-e199-4fb6-9ca0-d37cc5274d75",
   "metadata": {},
   "outputs": [],
   "source": [
    "from newspaper import Article"
   ]
  },
  {
   "cell_type": "code",
   "execution_count": 85,
   "id": "949f3c4e-26d4-4892-a7fb-751ba505441b",
   "metadata": {},
   "outputs": [],
   "source": [
    "#url = 'https://www.dw.com/en/euro-2020-england-beats-germany-to-end-the-joachim-l%C3%B6w-era/a-58077435'\n",
    "url = 'https://www.spiegel.de/international/world/interview-with-u-s-secretary-of-state-antony-blinken-on-nord-stream-2-russia-and-china-a-1ed9013c-b406-4741-84de-9f9a07704da7'\n",
    "#url = 'https://fox13now.com/2013/12/30/new-year-new-laws-obamacare-pot-guns-and-drones/'\n",
    "article = Article(url)"
   ]
  },
  {
   "cell_type": "code",
   "execution_count": 86,
   "id": "d5e5ec7d-03b0-402d-aa65-87c3a958df6e",
   "metadata": {},
   "outputs": [],
   "source": [
    "article.download()\n",
    "#article.html"
   ]
  },
  {
   "cell_type": "code",
   "execution_count": 87,
   "id": "fdf700c9-38c6-431b-be8c-f96b09afcf15",
   "metadata": {},
   "outputs": [
    {
     "data": {
      "text/plain": [
       "['René Pfister', 'Der Spiegel']"
      ]
     },
     "execution_count": 87,
     "metadata": {},
     "output_type": "execute_result"
    }
   ],
   "source": [
    "article.parse()\n",
    "article.authors"
   ]
  },
  {
   "cell_type": "code",
   "execution_count": 88,
   "id": "07911502-12f7-4141-983b-3f3bedcecbc1",
   "metadata": {},
   "outputs": [
    {
     "data": {
      "text/plain": [
       "'U.S. Secretary of State Antony Blinken on Nord Stream 2, Russia and China'"
      ]
     },
     "execution_count": 88,
     "metadata": {},
     "output_type": "execute_result"
    }
   ],
   "source": [
    "article.title"
   ]
  },
  {
   "cell_type": "code",
   "execution_count": 91,
   "id": "8d56c5b5-e8d6-4c96-9b02-7aeb4f8a4dd9",
   "metadata": {},
   "outputs": [],
   "source": [
    "article.publish_date"
   ]
  },
  {
   "cell_type": "code",
   "execution_count": 103,
   "id": "96a20570-e7dd-49b7-909d-8dd6157be7d9",
   "metadata": {},
   "outputs": [],
   "source": [
    "import newspaper\n",
    "from newspaper import Config\n",
    "import pandas as pd\n",
    "from dataclasses import make_dataclass"
   ]
  },
  {
   "cell_type": "code",
   "execution_count": 113,
   "id": "fc1324a9-8b01-4606-be40-b31b7e394778",
   "metadata": {},
   "outputs": [],
   "source": [
    "politics_urls = ['https://www.welt.de/finanzen/weltplus/']"
   ]
  },
  {
   "cell_type": "code",
   "execution_count": 114,
   "id": "1cfa48ea-be0f-44a3-ab5d-2c76b0418cb9",
   "metadata": {},
   "outputs": [],
   "source": [
    "News = make_dataclass(\"News\", [(\"title\", str), (\"category\", str)])"
   ]
  },
  {
   "cell_type": "code",
   "execution_count": 115,
   "id": "a2a634d9-7651-41f3-a3ab-020ec4eacbd2",
   "metadata": {},
   "outputs": [
    {
     "name": "stdout",
     "output_type": "stream",
     "text": [
      "#blackdiamond 0\n"
     ]
    }
   ],
   "source": [
    "news_list = []\n",
    "config = Config()\n",
    "config.fetch_images = False\n",
    "for url in politics_urls:\n",
    "    online_paper = newspaper.build(url, config)\n",
    "    print(\"#blackdiamond \" + str(len(online_paper.articles)))\n",
    "    for article in online_paper.articles:\n",
    "        article.download()\n",
    "        article.parse()\n",
    "        print(\"#blackdiamond \" + article.title)\n",
    "        news_list.append(News(article.title, 'politics'))\n",
    "        "
   ]
  },
  {
   "cell_type": "code",
   "execution_count": 112,
   "id": "a6be04ad-8242-4b1a-94af-0d40867a7fa5",
   "metadata": {},
   "outputs": [],
   "source": [
    "count = 0\n",
    "for category in online_paper.category_urls():\n",
    "    if count == 2:\n",
    "        break\n",
    "    count = count + 1\n",
    "    print(\"#blackdiamond \" + str(count) + \" \" + category)"
   ]
  },
  {
   "cell_type": "code",
   "execution_count": 224,
   "id": "3bb8212f-250a-4019-bd36-cd062ab2dc35",
   "metadata": {},
   "outputs": [
    {
     "name": "stdout",
     "output_type": "stream",
     "text": [
      "#blackdiamond 19\n",
      "#blackdiamond The tears of Wembley: German media reaction\n",
      "#blackdiamond Germany's Löw era ends with loss to England\n",
      "#blackdiamond Sterling shows Löw that football has moved on\n",
      "#blackdiamond Löw: The great coach who stayed too long\n",
      "#blackdiamond Germany join England in kneeling protest\n",
      "#blackdiamond Ukraine reach first-ever quarterfinals\n",
      "#blackdiamond What is the risk of getting COVID in a stadium?\n",
      "#blackdiamond German politicians critical of fans at games\n",
      "#blackdiamond Switzerland shock world champions France\n",
      "#blackdiamond Police search for spectator who caused crash\n",
      "#blackdiamond UEFA scraps away-goals rule\n",
      "#blackdiamond Las Vegas Raider Carl Nassib comes out\n",
      "#blackdiamond Djokovic on the prowl with Rufus the Hawk\n",
      "#blackdiamond Momentum growing for Beijing 2022 boycott\n",
      "#blackdiamond Unfair or more inclusion?\n",
      "#blackdiamond DW's German football podcast\n",
      "#blackdiamond DW Kick Off on Instagram\n",
      "#blackdiamond DW Sports on Twitter\n",
      "#blackdiamond DW Kick off on Facebook\n"
     ]
    }
   ],
   "source": [
    "from bs4 import BeautifulSoup\n",
    "#with open(\"dw/Germany_ News and in-depth reporting from Berlin and beyond _ DW.html\") as fp:\n",
    "#with open(\"dw/World_ Breaking news and perspectives from around the globe _ DW.html\") as fp:\n",
    "#with open(\"news_html/sports/dw/Sports_ German football and major international sports news _ DW.html\") as fp:\n",
    "#with open(\"news_html/business/dw/Business_ Economy and finance news from a German perspective _ DW.html\") as fp:\n",
    "with open(\"news_html/sports/dw/Sports_ German football and major international sports news _ DW.html\") as fp:\n",
    "    soup = BeautifulSoup(fp, \"lxml\")\n",
    "    news_tags = soup.find_all(\"div\", \"news\")\n",
    "    print(\"#blackdiamond \" + str(len(news_tags)))\n",
    "    for nc in news_tags:\n",
    "        title = nc.find(\"h2\", \"linkable\")\n",
    "        if title is not None:\n",
    "            print(\"#blackdiamond \" + str(title.next_element.strip()))"
   ]
  },
  {
   "cell_type": "code",
   "execution_count": 167,
   "id": "36a1e2d8-2357-4f1d-9a91-9233966419e9",
   "metadata": {},
   "outputs": [
    {
     "name": "stdout",
     "output_type": "stream",
     "text": [
      "#blackdiamond 20\n",
      "#blackdiamond BioNTech CEO Şahin on mRNA Technology - \"We Have Opened the Door to a New World of Pharmaceuticals\"\n",
      "#blackdiamond Biometric Data - How I Lost Control Over My Own Face\n",
      "#blackdiamond Quiet Energy Revolution - Germany's Stricter New Emissions Goals Present Huge Challenge\n",
      "#blackdiamond Social Consequences of the Pandemic - \"The Super-Rich in the West Are Evading Their Responsibility\"\n",
      "#blackdiamond BioNTech, CureVac and Co. - Patent Suspensions Threaten Germany's Booming Biotech Industry\n",
      "#blackdiamond WhatsApp CEO on the Controversial German Law Proposals - \"What the Government Is Asking for Would Weaken Security for All\"\n",
      "#blackdiamond Interview with Washington Post Editor Martin Baron - \"We Had To Be Much More Forthright about Trump\"\n",
      "#blackdiamond A Wartime Economy - Germany Needs to Give Vaccine Production a Shot in the Arm\n",
      "#blackdiamond Human Rights Concerns - Experts Demand Suspension of EU-China Investment Deal\n",
      "#blackdiamond Economist Nouriel Roubini - \"Twitter and the Other Platforms Are Bad, Facebook Is Worse\"\n",
      "#blackdiamond Skiing in the Pandemic - Alpine Rivalries Flare amid Resort Closures\n",
      "#blackdiamond Vaccine-Maker BioNTech - A Small German Biotech Company Hopes to Make the Leap to Global Player\n",
      "#blackdiamond FT Reporter on the Downfall of Wirecard Head - “I Asked Him Directly Whether He Was a Fraud”\n",
      "#blackdiamond World Bank Chief Economist Reinhart on the COVID Crisis - “Many Businesses Are In Sectors That Arent't Going To Recover”\n",
      "#blackdiamond Bank of France Governor François Villeroy de Galhau - \"We Now Need a Growth-Friendly Agenda\"\n",
      "#blackdiamond An SOS in the Corona Crisis - Cruise Industry Battles for Survival in the Pandemic\n",
      "#blackdiamond The Future of Electric - Tesla Joins the Race for the Next-Gen Battery\n",
      "#blackdiamond The Tesla Factory Near Berlin - Elon Musk Shows the Germans How to Move Quickly\n",
      "#blackdiamond Monetary Policy Expert David Marsh - \"We Are Witnessing the End of Independent Central Banks\"\n",
      "#blackdiamond Corona Plastic Boom - The Myth of German Recycling\n"
     ]
    }
   ],
   "source": [
    "import re\n",
    "#with open(\"spiegel/World - International - DER SPIEGEL.html\") as fp:\n",
    "with open(\"spiegel/Business - International - DER SPIEGEL.html\") as fp:\n",
    "    soup = BeautifulSoup(fp, \"lxml\")\n",
    "    news_tags = soup.find_all(attrs={\"data-area\": re.compile(\"news\")})\n",
    "    print(\"#blackdiamond \" + str(len(news_tags)))\n",
    "    for nc in news_tags:\n",
    "        title = nc.find_all_next(\"span\", string=True, limit=2)\n",
    "        title = title[0].string.strip() + \" - \" + title[1].string.strip()\n",
    "        print(\"#blackdiamond \" + title)"
   ]
  },
  {
   "cell_type": "code",
   "execution_count": 199,
   "id": "4ce7fba6-b68c-418c-8daa-261ad2cb9321",
   "metadata": {},
   "outputs": [
    {
     "name": "stdout",
     "output_type": "stream",
     "text": [
      "#blackdiamond 36\n",
      "#blackdiamond New UK laws to sweep away EU state aid rules\n",
      "#blackdiamond New UK laws to sweep away EU state aid rules\n",
      "#blackdiamond Checkatrade warns of shortage of trade workers\n",
      "#blackdiamond Name all firms receiving furlough cash, say MPs\n",
      "#blackdiamond Anger at fast-lane quarantine rules for big firms\n",
      "#blackdiamond Portugal exempts under-18s from quarantine\n",
      "#blackdiamond House prices rise at fastest pace in 17 years\n",
      "#blackdiamond Firms urged to give staff time off for England game\n",
      "#blackdiamond New UK laws to sweep away EU state aid rules\n",
      "#blackdiamond Checkatrade warns of shortage of trade workers\n",
      "#blackdiamond Name all firms receiving furlough cash, say MPs\n",
      "#blackdiamond Anger at fast-lane quarantine rules for big firms\n",
      "#blackdiamond Portugal exempts under-18s from quarantine\n",
      "#blackdiamond House prices rise at fastest pace in 17 years\n",
      "#blackdiamond Firms urged to give staff time off for England game\n",
      "#blackdiamond Checkatrade warns of shortage of trade workers\n",
      "#blackdiamond Name all firms receiving furlough cash, say MPs\n",
      "#blackdiamond Anger at fast-lane quarantine rules for big firms\n",
      "#blackdiamond Portugal exempts under-18s from quarantine\n",
      "#blackdiamond House prices rise at fastest pace in 17 years\n",
      "#blackdiamond Firms urged to give staff time off for England game\n",
      "#blackdiamond UK regulator clamps down on cryptocurrency giant\n",
      "#blackdiamond Small firms warn of 18-day gap in Covid support\n",
      "#blackdiamond Major storm delays Hong Kong stock market trading\n",
      "#blackdiamond Biden backs infrastructure compromise deal\n",
      "#blackdiamond Bank of England shrugs off inflation fears\n",
      "#blackdiamond Providing jobs for young people in Brazil\n",
      "#blackdiamond How revamping markets risk shutting out locals\n",
      "#blackdiamond Mezcal producers hope to toast brighter future\n",
      "#blackdiamond Biden on the US economy fact-checked\n",
      "#blackdiamond The student loan bubble 'is going to burst'\n",
      "#blackdiamond The Queen visits the home of Irn-Bru\n",
      "#blackdiamond The scammers renting out other people's homes\n",
      "#blackdiamond Nightclub 'facing extinction' after lockdown delay\n",
      "#blackdiamond Can countries pay back pandemic debt?\n",
      "#blackdiamond Why Covid has made it harder for young women to get jobs\n"
     ]
    }
   ],
   "source": [
    "#with open(\"bbc/Business - BBC News.html\") as fp:\n",
    "with open(\"bbc/Economy - BBC News.html\") as fp:    \n",
    "    soup = BeautifulSoup(fp, \"lxml\")\n",
    "    news_tags = soup.find_all(\"div\", re.compile(\"News\"))\n",
    "    print(\"#blackdiamond \" + str(len(news_tags)))\n",
    "    for nc in news_tags:\n",
    "        title = nc.find_all_next(\"h3\", string=True, limit=1)\n",
    "        title = title[0].string.strip()\n",
    "        print(\"#blackdiamond \" + title)"
   ]
  },
  {
   "cell_type": "code",
   "execution_count": 198,
   "id": "57378c28-75a8-4bdf-af23-3b80d57f09ad",
   "metadata": {},
   "outputs": [
    {
     "name": "stdout",
     "output_type": "stream",
     "text": [
      "#blackdiamond 71\n",
      "#blackdiamond id-cta-sign-in\n",
      "#blackdiamond Wimbledon: Djokovic leads Anderson, Norrie in action - watch, listen & follow text\n",
      "#blackdiamond England v India - live text\n",
      "#blackdiamond Reaction as ecstatic England beat Germany, plus latest transfer news\n",
      "#blackdiamond Tour de France - key day for contenders on stage 5 time trial\n",
      "#blackdiamond Football linked to 2,000 Scottish Covid cases\n",
      "#blackdiamond ‘Germany win will be one of England's greatest - if they now reach the final’ \n",
      "#blackdiamond Klinsmann 'absolutely' interested in Tottenham job\n",
      "#blackdiamond What is making Wimbledon Centre Court so slippery?  \n",
      "#blackdiamond Ukraine beat Sweden with last-gasp extra-time winner to set up England quarter-final\n",
      "#blackdiamond Antetokounmpo injured as Atlanta level series\n",
      "#blackdiamond Fifth seed Andreescu out in Wimbledon first round\n",
      "#blackdiamond Tottenham close in on Nuno as boss\n",
      "#blackdiamond Root guides England to win in first ODI against Sri Lanka\n",
      "#blackdiamond Warholm calm over hopes of breaking longest-standing record\n",
      "#blackdiamond 'England will never have a better opportunity to win the Euros' - so who stands in their way?\n",
      "#blackdiamond 'We have given people another day to remember' - Southgate's redemption\n",
      "#blackdiamond 'Nights like this allow England to dream'\n",
      "#blackdiamond 'It's coming home!' - How social media reacted to England beating Germany\n",
      "#blackdiamond Tearful Williams 'heartbroken' to withdraw after Wimbledon injury\n",
      "#blackdiamond How LGBTQ+ wrestlers found a place in the industry\n",
      "#blackdiamond Villa hope Grealish will sign new deal - Wednesday's gossip\n",
      "#blackdiamond Federer avoids Wimbledon upset as Mannarino retires injured\n",
      "#blackdiamond World number one Barty through as Venus Williams wins on 90th Slam appearance\n",
      "#blackdiamond Leicester sign 'exciting' striker Daka\n",
      "#blackdiamond Palace set to appoint Vieira as manager\n",
      "#blackdiamond Football Scores\n",
      "#blackdiamond More from BBC News\n",
      "#blackdiamond Where and how to watch BBC World News\n",
      "#blackdiamond Premier League top stories\n",
      "#blackdiamond European football news\n",
      "#blackdiamond World Football podcasts\n",
      "#blackdiamond The best of African sport from BBC Africa\n",
      "#blackdiamond Sport calendar\n",
      "#blackdiamond Wales fans go wild in Cardiff for Ramsey goal\n",
      "#blackdiamond 'Heat of moment' decision to play should not have been made - Schmeichel\n",
      "#blackdiamond Not having a superstar has helped Italy - Ferdinand\n",
      "#blackdiamond Why England, Wales & Scotland fans should be excited for Euro 2020\n",
      "#blackdiamond 'There is no time for the Lions to dwell on losing their captain'\n",
      "#blackdiamond Hovland win continues European momentum with The Open looming large\n",
      "#blackdiamond Masks, social distancing and smaller crowds - yet Wimbledon still feels the same\n",
      "#blackdiamond Hamilton swallows a big dose of reality as Verstappen wins again\n",
      "#blackdiamond Murray back and will Williams & Djokovic reach milestones? All you need to know as Wimbledon returns\n",
      "#blackdiamond 'Now or never for Belgium's golden generation' - but at what cost has Portugal win come?\n",
      "#blackdiamond We lost because of what I did - De Ligt distraught at Dutch exit\n",
      "#blackdiamond Ten rounds, 125 answers - the bumper Euros quiz\n",
      "#blackdiamond Can you name Wales' try scorers under Pivac?\n",
      "#blackdiamond Quiz: Can you name all Anderson's Test team-mates?\n",
      "#blackdiamond Can you name England team that exited Euro 2000?\n",
      "#blackdiamond Discover: The BBC's best sports podcasts\n",
      "#blackdiamond Daily Euros podcast: Southgate's England heroes\n",
      "#blackdiamond Daily Euros podcast: Super Switzerland and sizzling Spain shine on Magic Monday\n",
      "#blackdiamond Rugby Union Weekly: Champagne goggles and Premiership medals\n",
      "#blackdiamond No Balls: The Cricket Podcast - ODI win, stolen mugs and more Hartley fielding heroics\n",
      "#blackdiamond That Peter Crouch Euros Pod: Episode Six\n",
      "#blackdiamond 5 Live Boxing with Costello & Bunce: GB Olympic squad - stars of today & tomorrow\n",
      "#blackdiamond 'Federer v Sampras was a change of era, a lift-off moment'\n",
      "#blackdiamond The evolving role of England captain Kane\n",
      "#blackdiamond A 'mortifying' moment but a sense of tranquillity - how Southgate rebuilt England\n",
      "#blackdiamond The players matching maternity with elite cricket\n",
      "#blackdiamond How Spain’s ‘terrifying confidence’ conquered the world\n",
      "#blackdiamond The man who took a 'scaredy cat' and built a 'raging bull'\n",
      "#blackdiamond How a Man Utd legend left for Dunstable Town\n",
      "#blackdiamond Football Scores\n",
      "#blackdiamond Discover: The BBC's best sports podcasts\n",
      "#blackdiamond Daily Euros podcast: Southgate's England heroes\n",
      "#blackdiamond Daily Euros podcast: Super Switzerland and sizzling Spain shine on Magic Monday\n",
      "#blackdiamond Rugby Union Weekly: Champagne goggles and Premiership medals\n",
      "#blackdiamond No Balls: The Cricket Podcast - ODI win, stolen mugs and more Hartley fielding heroics\n",
      "#blackdiamond That Peter Crouch Euros Pod: Episode Six\n",
      "#blackdiamond 5 Live Boxing with Costello & Bunce: GB Olympic squad - stars of today & tomorrow\n"
     ]
    }
   ],
   "source": [
    "def has_title_attr(tag):\n",
    "    return tag.has_attr('data-bbc-title')\n",
    "\n",
    "with open(\"bbc/Home - BBC Sport.html\") as fp:\n",
    "    soup = BeautifulSoup(fp, \"lxml\")\n",
    "    news_tags = soup.find_all(has_title_attr)\n",
    "    print(\"#blackdiamond \" + str(len(news_tags)))\n",
    "    for nc in news_tags:\n",
    "        print(\"#blackdiamond \" + nc[\"data-bbc-title\"])"
   ]
  },
  {
   "cell_type": "code",
   "execution_count": 206,
   "id": "fafdfbbb-f1eb-4804-b332-733b077ab3e6",
   "metadata": {},
   "outputs": [
    {
     "name": "stdout",
     "output_type": "stream",
     "text": [
      "#blackdiamond 59\n",
      "#blackdiamond As diners and restaurant owners embrace a summer reopening, long wait times are leaving a bitter taste\n",
      "#blackdiamond Some gas stations seeing outages ahead of busy July 4 travel weekend\n",
      "#blackdiamond Home prices surged in April, for highest price spike in more than 30 years\n",
      "#blackdiamond Walmart unveils low-price insulin as more patients with diabetes struggle to pay for drug\n",
      "#blackdiamond United Airlines orders 270 jets to replace old ones, plan for growth\n",
      "#blackdiamond How the lumber industry misread Covid and ended up with a global shortage and sky-high prices\n",
      "#blackdiamond Is it a sluggish labor market — or workers positioning themselves for better opportunities?\n",
      "#blackdiamond Airports have always had trouble attracting workers. Expect longer lines for a while, experts say.\n",
      "#blackdiamond Juul agrees to $40 million settlement in North Carolina teen marketing lawsuit\n",
      "#blackdiamond Binance, the world’s largest cryptocurrency exchange, banned by U.K. regulator\n",
      "#blackdiamond Security robots expand across U.S., with few tangible results\n",
      "#blackdiamond Johnson & Johnson reaches $230 million opioid settlement with New York\n",
      "#blackdiamond TSA begins flight crew self-defense training amid surge in unruly passengers\n",
      "#blackdiamond Key inflation indicator posts biggest year-over-year gain in nearly three decades\n",
      "#blackdiamond Teamsters vote to create dedicated Amazon division to unionize workers\n",
      "#blackdiamond Launching Jeff Bezos into space is a leap too far for insurers\n",
      "#blackdiamond BuzzFeed announces plans to go public\n",
      "#blackdiamond Peloton faces backlash after disabling free running feature on its $4,000 treadmills\n",
      "#blackdiamond Southwest CEO Gary Kelly to step down\n",
      "#blackdiamond How one family is working to get out of an attic and own a home of their own\n",
      "#blackdiamond How one woman aims to cash in on her savings and travel the world\n",
      "#blackdiamond Warren Buffett gives away another $4.1 billion, resigns as trustee at Gates Foundation\n",
      "#blackdiamond Some used vehicles now cost more than original sticker price\n",
      "#blackdiamond Teamsters work to galvanize Amazon workers, hitting the company when it hurts most\n",
      "#blackdiamond Just in time for July 4, America's latest shortage is ... fireworks\n",
      "#blackdiamond Fed Chair Powell grilled — again — on inflation, interest rates and unemployment\n",
      "#blackdiamond Makeup company brings inclusivity to the cosmetics world\n",
      "#blackdiamond Charities innovate to meet the challenges of Covid-19\n",
      "#blackdiamond Home sales fall for fourth straight month as affordability squeezes buyers out\n",
      "#blackdiamond Dating app Bumble gives entire staff the week off to combat burnout\n",
      "#blackdiamond McDonald's and other fast-food chains slash dollar menus, push pricey 'family' meals\n",
      "#blackdiamond Returning to the office? How your dreaded commute likely got worse\n",
      "#blackdiamond Airlines, unions ask the attorney general to crack down on passenger violence\n",
      "#blackdiamond Bitcoin sinks to two-week low as China intensifies crypto mining crackdown\n",
      "#blackdiamond Airlines got billions of dollars in bailouts. So why are ticket prices rising?\n",
      "#blackdiamond When offices closed, workers bought vans and hit the road. Some don’t want to return.\n",
      "#blackdiamond Products going viral on TikTok are the new trendy dance or song. And retailers are all in.\n",
      "#blackdiamond Political donations lead Stonewall Inn to ban some beers\n",
      "#blackdiamond 'Scarlet letter?' Farm laborers to wear masks if they haven't been vaccinated.\n",
      "#blackdiamond Amazon's Prime Day is back — with Target, Walmart and Kohl's snapping at its heels\n",
      "#blackdiamond American Airlines cancels hundreds of flights due to staffing crunch, maintenance issues\n",
      "#blackdiamond An electric car fire is like 'a trick birthday candle' — and a nightmare for firefighters\n",
      "#blackdiamond Lobster or legitimacy? A key U.S. ally embraces the West — and pays the price with China\n",
      "#blackdiamond 'Irresponsible use of our water': Drought-stricken cities question value of data centers\n",
      "#blackdiamond Australia takes wine dispute with China to WTO\n",
      "#blackdiamond Dodging, detours and dollars: A rural county hopes for infrastructure funding\n",
      "#blackdiamond How corporate America is approaching Juneteenth, the newest national holiday\n",
      "#blackdiamond Are homes infrastructure? Biden's proposal says better housing policy will improve access, affordability\n",
      "#blackdiamond With car prices surging, your vehicle is a prime target for thieves\n",
      "#blackdiamond Biden wants millions of electric vehicles on the roads. Can the power grid handle it?\n",
      "#blackdiamond ‘It’s been near impossible’: Restaurant owners describe struggle to hire staff as U.S. reopens\n",
      "#blackdiamond Residents push back as local governments sell off their water systems\n",
      "#blackdiamond Constructed inequality: The lasting repercussions of America's highway system\n",
      "#blackdiamond Mortgage rates shoot higher after Fed Chairman Powell's comments\n",
      "#blackdiamond Airports were just getting through the passenger drought — then came a water drought.\n",
      "#blackdiamond Redefining infrastructure would be a boon to women, lower-income and minority workers\n",
      "#blackdiamond Victoria's Secret enlists Megan Rapinoe, Priyanka Chopra as new ambassadors\n",
      "#blackdiamond 'Be back by Labor Day': CEO issues sternest warning yet for return to work\n"
     ]
    }
   ],
   "source": [
    "with open(\"nbcnews/Business and Finance News, Reports & Videos _ NBC News.html\") as fp:    \n",
    "    soup = BeautifulSoup(fp, \"lxml\")\n",
    "    news_tags = soup.find_all(\"article\")\n",
    "    print(\"#blackdiamond \" + str(len(news_tags)))\n",
    "    for nc in news_tags:\n",
    "        title = nc.find(\"span\", \"tease-card__headline\")\n",
    "        if title is not None:\n",
    "            print(\"#blackdiamond \" + title.string)"
   ]
  },
  {
   "cell_type": "code",
   "execution_count": 207,
   "id": "fac871cb-fa41-497e-83ee-0b08f29d0eac",
   "metadata": {},
   "outputs": [
    {
     "name": "stdout",
     "output_type": "stream",
     "text": [
      "#blackdiamond 35\n",
      "#blackdiamond Biden’s infrastructure plan would cut U.S. debt and increase economic growth, Wharton study finds\n",
      "#blackdiamond As housing boom begins to fizzle, weekly mortgage demand falls nearly 7%\n",
      "#blackdiamond Home prices surged in April at a ‘truly extraordinary’ rate, S&P Case-Shiller says\n",
      "#blackdiamond The Fed’s inflation view could drag the economy into recession, El-Erian warns\n",
      "#blackdiamond Inflation looks bad now, but it’s pretty much sticking to the script\n",
      "#blackdiamond Key inflation indicator sees biggest year-over-year gain in nearly three decades\n",
      "#blackdiamond Jobless claims hold above 400,000 for the second week in a row\n",
      "#blackdiamond What Delaware’s $15 minimum wage may mean for efforts to boost the national rate\n",
      "#blackdiamond Fed’s Powell: It’s ‘very, very unlikely’ the U.S. will see 1970s-style inflation\n",
      "#blackdiamond Existing home sales drop again as affordability squeezes buyers\n",
      "#blackdiamond Powell notes economic improvement, but says the pandemic remains a risk\n",
      "#blackdiamond Fed’s Kashkari opposed to rate hikes at least through 2023\n",
      "#blackdiamond Fed’s Jim Bullard sees first interest rate hike coming as soon as 2022\n",
      "#blackdiamond Mortgage rates shoot higher after Fed Chairman Powell’s comments\n",
      "#blackdiamond Jobless claims show surprise increase to highest level in a month\n",
      "#blackdiamond Federal Reserve meeting full recap: Chair Jerome Powell’s market-moving comments\n",
      "#blackdiamond The Federal Reserve now forecasts at least two rate hikes by the end of 2023\n",
      "#blackdiamond Here’s what changed in the new Fed statement\n",
      "#blackdiamond The Fed moves up its timeline for rate hikes as inflation rises\n",
      "#blackdiamond Vaccines will be the ‘most important’ economic policy this year, IMF chief says\n",
      "#blackdiamond U.S. housing starts rise less than expected in May; building permits fall\n",
      "#blackdiamond Mortgage refinances rebound as rates drop temporarily to lowest level in a month\n",
      "#blackdiamond Homebuilder sentiment drops to 10-month low, as construction costs boost prices\n",
      "#blackdiamond Producer prices climb 6.6% in May — largest 12-month increase on record\n",
      "#blackdiamond The markets are on edge before the Federal Reserve’s policy update\n",
      "#blackdiamond Bank of America’s Moynihan says the Fed can pull back on policy help\n",
      "#blackdiamond Paul Tudor Jones rips Fed on inflation, says credibility is at stake\n",
      "#blackdiamond Bank of America CEO says consumer spending is 20% higher this year than 2019\n",
      "#blackdiamond Household net worth climbs to $136.9 trillion, thanks to big stock market gains\n",
      "#blackdiamond Consumer prices jump 5% in May, fastest pace since the summer of 2008\n",
      "#blackdiamond Hot inflation may have become scorching in May and is expected to hit a 28-year high\n",
      "#blackdiamond ‘Impotent’ Fed policy will fail to contain 1970s-type inflation: Peter Boockvar\n",
      "#blackdiamond Mortgage rates drop, but not enough for priced-out homebuyers\n",
      "#blackdiamond U.S. trade deficit narrows slightly from record levels\n"
     ]
    }
   ],
   "source": [
    "with open(\"cnbc/Economic News.html\") as fp:    \n",
    "    soup = BeautifulSoup(fp, \"lxml\")\n",
    "    news_tags = soup.find_all(\"a\", \"Card-title\")\n",
    "    print(\"#blackdiamond \" + str(len(news_tags)))\n",
    "    for nc in news_tags:\n",
    "        title = nc.find(\"div\", string=True)\n",
    "        if title is not None:\n",
    "            print(\"#blackdiamond \" + title.string)"
   ]
  },
  {
   "cell_type": "code",
   "execution_count": 216,
   "id": "1b827615-6702-44d1-bea7-ac0cd56529d6",
   "metadata": {},
   "outputs": [
    {
     "name": "stdout",
     "output_type": "stream",
     "text": [
      "#blackdiamond 39\n",
      "#blackdiamond Russia says people can decline its vaccine. But for many, they'll get fired if they do\n",
      "#blackdiamond Tracking Covid-19 cases in the US\n",
      "#blackdiamond Tracking Covid-19 vaccines in the US\n",
      "#blackdiamond Countries welcoming US tourists back\n",
      "#blackdiamond Pre-market movers\n",
      "#blackdiamond Minister's affair caught on camera prompts questions about surveillance among Britain's political elite\n",
      "#blackdiamond Russia says people can decline its vaccine. But for many, they'll get fired if they do\n",
      "#blackdiamond Smoke billows from London train station as fire crews tackle blaze\n",
      "#blackdiamond Czech President calls transgender people 'disgusting'\n",
      "#blackdiamond Investigation launched after 'sensitive' UK defense documents reportedly 'found at bus stop'\n",
      "#blackdiamond Matt Hancock, Britain's beleaguered health secretary, resigns after being caught kissing aide\n",
      "#blackdiamond The UK should be having a racial reckoning. Instead, Black Lives Matter activists say they fear for their safety\n",
      "#blackdiamond Five people killed as tornado wreaks havoc in Czech Republic\n",
      "#blackdiamond Frenchwoman who killed abusive husband walks out free after sentencing\n",
      "#blackdiamond Matt Hancock, Britain's beleaguered health secretary, apologizes after being caught in embrace with aide\n",
      "#blackdiamond A look inside Buckingham Palace's $500 million refurbishment\n",
      "#blackdiamond Buckingham Palace admits it 'must do more' on diversity in annual report\n",
      "#blackdiamond Hungary 'has no place in the EU anymore,' Dutch leader says\n",
      "#blackdiamond Why Britain's friends and adversaries will have watched the Russia confrontation closely\n",
      "#blackdiamond Russia says 'London has lost its manners' as UK plays down Crimean naval confrontation\n",
      "#blackdiamond Russian forces confront British warship in Black Sea military encounter\n",
      "#blackdiamond Millions of jobs and a shortage of applicants. Welcome to the new economy\n",
      "#blackdiamond Five years after the Brexit vote, the United Kingdom is more divided than ever\n",
      "#blackdiamond Britain's Pacific trade ambitions won't compensate for Brexit\n",
      "#blackdiamond Deutsche Börse Photography Foundation Prize 2021 Finalists\n",
      "#blackdiamond Rembrandt masterpiece thought lost is found after falling off wall\n",
      "#blackdiamond WWII code-breaker makes history on UK currency\n",
      "#blackdiamond Find out which countries are welcoming US tourists back\n",
      "#blackdiamond Traveling to Greece during Covid-19: What you need to know before you go\n",
      "#blackdiamond I tested positive for Covid-19 twice in two cities. The responses were vastly different\n",
      "#blackdiamond Are cell phone calls on airplane flights inevitable?\n",
      "#blackdiamond 'Hamlet' in the skies? The story behind Taiwan's newest airline\n",
      "#blackdiamond Copenhagen's new Metro is a thing of beauty\n",
      "#blackdiamond The hotel designed for likes\n",
      "#blackdiamond The best luxury bars in Budapest\n",
      "#blackdiamond Budapest 's fine dining revolution\n",
      "#blackdiamond Luxury atop one of the world's tallest hotels\n",
      "#blackdiamond They say he lived to be 168. Here's how\n",
      "#blackdiamond This fire has been burning for 4,000 years\n"
     ]
    }
   ],
   "source": [
    "#headline-text\n",
    "#headlineText\n",
    "#with open(\"wsj/WSJ - Economics News, Breaking News Headlines and Analysis.html\") as fp:\n",
    "#with open(\"skysport/Sky Sports - Sports News, Transfers, Scores _ Watch Live Sport.html\") as fp:\n",
    "#with open(\"nbcnews/Business and Finance News, Reports & Videos _ NBC News.html\") as fp:\n",
    "with open(\"news_html/politics/cnn/Europe news - breaking news, video, headlines and opinion - CNN.html\") as fp:\n",
    "    soup = BeautifulSoup(fp, \"lxml\")\n",
    "    news_tags = soup.find_all(\"span\", re.compile(\"headline\"), string=True)\n",
    "    print(\"#blackdiamond \" + str(len(news_tags)))\n",
    "    for nc in news_tags:\n",
    "        print(\"#blackdiamond \" + nc.string.strip())"
   ]
  },
  {
   "cell_type": "code",
   "execution_count": 217,
   "id": "b39cd640-855f-4bda-a853-a86ef4407329",
   "metadata": {},
   "outputs": [
    {
     "name": "stdout",
     "output_type": "stream",
     "text": [
      "business\n",
      "economy\n",
      "sports\n",
      "politics\n"
     ]
    }
   ],
   "source": [
    "import os\n",
    "\n",
    "for f in os.listdir(\"news_html_train\"):\n",
    "    print(f)"
   ]
  },
  {
   "cell_type": "code",
   "execution_count": 246,
   "id": "ea8660cf-cf00-4265-a95a-e3e3064f3aab",
   "metadata": {},
   "outputs": [
    {
     "name": "stdout",
     "output_type": "stream",
     "text": [
      "#blackdiamond 45\n",
      "#blackdiamond Germany to secure 204 million Covid vaccine ‘booster’ doses for 2022\n",
      "#blackdiamond Delta variant causing ‘at least half’ of new Covid infections in Germany\n",
      "#blackdiamond Everything that changes in Germany in July 2021\n",
      "#blackdiamond Everything that changes in Germany in July 2021\n",
      "#blackdiamond Covid vaccine from Germany’s CureVac just 48 percent effective\n",
      "#blackdiamond German phrase of the day: über Gott und die Welt reden\n",
      "#blackdiamond Germany overtakes US for first Covid jabs\n",
      "#blackdiamond Reader question: Can I apply or return to a German university from a ‘virus variant’ area?\n",
      "#blackdiamond University applications: how to win a place by being unconventional\n",
      "#blackdiamond KPMG, MIT or the UN: where could this German business degree take you?\n",
      "#blackdiamond Mental health: what are the warning signs international residents should look out for?\n",
      "#blackdiamond Queen Elizabeth to host Germany’s Merkel during UK visit\n",
      "#blackdiamond US set to pick Amy Gutmann as first woman ambassador to Germany\n",
      "#blackdiamond VIDEO Q&A: What Brits in Germany need to know about residency after Brexit\n",
      "#blackdiamond What it’s like to study abroad in Germany during a pandemic\n",
      "#blackdiamond Germany braces for more storms and torrential rain\n",
      "#blackdiamond What happens if Brits in Germany don’t apply for post-Brexit residence card by deadline?\n",
      "#blackdiamond Number of people in Germany suffering from long-Covid set to ‘significantly increase’\n",
      "#blackdiamond Reader question: What are the Covid-19 test requirements for entering Germany?\n",
      "#blackdiamond EXPLAINED: How Berlin’s new eased rules on social gatherings affect you\n",
      "#blackdiamond Indoor dining and gyms: How Berlin’s new eased Covid rules affect you\n",
      "#blackdiamond EXPLAINED: How states across Germany are relaxing Covid rules\n",
      "#blackdiamond 10 mistakes everyone makes when they first arrive in Germany\n",
      "#blackdiamond EXPLAINED: Everything you need to know about parental leave in Germany\n",
      "#blackdiamond Eight unique words and phrases that tell us something about Germany\n",
      "#blackdiamond Reader question: Can I get a retirement visa for Germany?\n",
      "#blackdiamond OPINION: Is it true that Germans don’t understand sarcasm?\n",
      "#blackdiamond Delta variant: how worried should Germany be about a new wave of cases?\n",
      "#blackdiamond ANALYSIS: Merkel’s CDU gains momentum after victory in key state election\n",
      "#blackdiamond Germany extends ‘trust’ period for employing UK citizens after Brexit\n",
      "#blackdiamond Postcode lottery: Brits in Germany on what it’s like to apply for the post-Brexit residence card\n",
      "#blackdiamond Covid sceptics launch German job site for ‘unvaccinated people only’\n",
      "#blackdiamond EXPLAINED: How Germany’s Covid-19 rules for workers are changing from July\n",
      "#blackdiamond End of home office: Are employees in Germany ready to return to the workplace?\n",
      "#blackdiamond OPINION: How to build trust with your German employer\n",
      "#blackdiamond Studying in Germany: These are the words you need to know\n",
      "#blackdiamond Everything you need to know as an Indian student moving to Germany\n",
      "#blackdiamond Here’s the German vocabulary you need to get the Covid-19 vaccine\n",
      "#blackdiamond Masks and Covid tests should continue in Germany’s schools until 2022, say health officials\n",
      "#blackdiamond Everything you need to know as an American moving to Germany\n",
      "#blackdiamond Six stress-busting steps for moving to Germany\n",
      "#blackdiamond Brexit: What happens if you don’t exchange your driving licence in Austria by the June 30th deadline?\n",
      "#blackdiamond Today in Denmark: A round-up of the latest news on Thursday\n",
      "#blackdiamond ‘Health pass’: What documents do Americans need for travel to Italy?\n",
      "#blackdiamond How tourists and visitors in France can get a Covid test\n"
     ]
    }
   ],
   "source": [
    "with open(\"news_html_test/The Local - Germany's News in English.html\") as fp:    \n",
    "    soup = BeautifulSoup(fp, \"lxml\")\n",
    "    news_tags = soup.find_all(\"div\", re.compile(\"article-content\"))\n",
    "    print(\"#blackdiamond \" + str(len(news_tags)))\n",
    "    for nc in news_tags:\n",
    "        title = nc.find_all_next(\"a\", string=True, limit=1)\n",
    "        title = title[0].string.strip()\n",
    "        print(\"#blackdiamond \" + title)"
   ]
  },
  {
   "cell_type": "code",
   "execution_count": 245,
   "id": "efc66fbb-8216-4ded-afb8-f809351c1eea",
   "metadata": {},
   "outputs": [
    {
     "name": "stdout",
     "output_type": "stream",
     "text": [
      "#blackdiamond 239\n",
      "#blackdiamond Complete meltdown by Aroldis Chapman, New York Yankees in stunning loss to LA Angels\n",
      "#blackdiamond Patrick Beverley flagrantly fouls then mocks Chris Paul (video)\n",
      "#blackdiamond 63 days until it is football time in Tennessee\n",
      "#blackdiamond How bad was umpire Angel Hernandez in Giants' loss to Dodgers?\n",
      "#blackdiamond Bobby Bonilla Day: Mets embrace mock holiday that pays former slugger, 'No one forgets July 1'\n",
      "#blackdiamond Report: Trail Blazers received less-than-glowing feedback from Spurs on Becky Hammon\n",
      "#blackdiamond Watch: Phil Mickelson displays some gamesmanship with Bryson DeChambeau as next Match approaches\n",
      "#blackdiamond Williams, Paul emotional after Phoenix reaches NBA Finals\n",
      "#blackdiamond Chip Ganassi sells entire NASCAR team to Trackhouse Racing\n",
      "#blackdiamond Devin Booker: 'This is nice, but we're chasing Larry for sure'\n",
      "#blackdiamond Alabama football’s all-time record against the Big 12\n",
      "#blackdiamond Katie Nageotte Set an Olympic Trials Record in Pole Vault, and This Is What Joy Looks Like\n",
      "#blackdiamond Mississippi State wins College World Series, first team championship in school history\n",
      "#blackdiamond WATCH: Red Sox' Kiké Hernández makes insane catch vs. Royals\n",
      "#blackdiamond Byeong-Hun An voiced his displeasure with dawn tee times and the PGA Tour hears him\n",
      "#blackdiamond WATCH: Why you should never talk trash to Larry Bird\n",
      "#blackdiamond Why Chris Paul never doubted he would appear in NBA Finals, despite experiencing so much playoff heartbreak\n",
      "#blackdiamond Simone Biles' boyfriend, Jonathan Owens, had no idea who she was when they first started dating\n",
      "#blackdiamond With one second to go, Lightning get a goal that will last forever\n",
      "#blackdiamond Lionel Messi now free agent after Barcelona contract expires\n",
      "#blackdiamond Tennis-Venus follows Serena out of Wimbledon\n",
      "#blackdiamond Cabrera hits 494th homer, Tigers sweep DH from Indians\n",
      "#blackdiamond Four of five first-round quarterbacks remain unsigned\n",
      "#blackdiamond Georges St-Pierre gives his prediction for Dustin Poirier vs. Conor McGregor UFC 264 trilogy\n",
      "#blackdiamond New trade suggestion has Sixers moving star Ben Simmons to Pacers\n",
      "#blackdiamond Floyd Mayweather Divulges How Much He Made from 'Fake Fight’ with Logan Paul\n",
      "#blackdiamond Hawks dealing with injuries to Young, Capela in East final\n",
      "#blackdiamond Clippers offseason preview: Five things they should prioritize\n",
      "#blackdiamond Sporting News early bowl projections call for new bowl game for Notre Dame\n",
      "#blackdiamond Derek Shore: Will the Cardinals be buyers or sellers?\n",
      "#blackdiamond 2 Knicks trade packages that could land Damian Lillard in New York\n",
      "#blackdiamond Why Rob Ninkovich doesn't see Cam Newton having bounce-back year\n",
      "#blackdiamond Fantasy Football: Running back draft rankings for 2021\n",
      "#blackdiamond NBA betting: Pick against the spread for Bucks vs. Hawks Game 5\n",
      "#blackdiamond One arm golf swing leaves TikTok users mind-blown\n",
      "#blackdiamond Belgium vs Italy, Euro 2020 quarter-final: What time is kick-off, what TV channel is it on and what is our prediction?\n",
      "#blackdiamond Report: Blackhawks working on Duncan Keith trade out of Chicago\n",
      "#blackdiamond Rumor: Dennis Schroder looking for $100 million-$120 million contract\n",
      "#blackdiamond Wimbledon 2021 LIVE: Cameron Norrie, Ashleigh Barty and Roger Federer in action today - latest updates\n",
      "#blackdiamond CBSSports names ideal landing spot for former Georgia RB Todd Gurley\n",
      "#blackdiamond A closer look at how the Yankees mauled Shohei Ohtani\n",
      "#blackdiamond Are the Charlotte Hornets interested in signing LiAngelo Ball?\n",
      "#blackdiamond Mets takeaways from Wednesday's 20-2 loss to Braves, including a nightmare seven-run fourth inning\n",
      "#blackdiamond Third time’s a charm: Rick Carlisle returns to Pacers with win-now attitude\n",
      "#blackdiamond Willy Adames' offensive outburst sparking Brewers' surge\n",
      "#blackdiamond Sky Brown to be Britain's youngest summer Olympian\n",
      "#blackdiamond Serena Williams Said She's \"Heartbroken\" After Retiring From A Match With Injury. Now Wimbledon Is Facing Backlash For Putting Players In Danger.\n",
      "#blackdiamond Packers’ toughest stretch in 2021 could come between Weeks 7-10\n",
      "#blackdiamond College basketball stars get brand deal shortly after NCAA announcement\n",
      "#blackdiamond Former player names Dolphins’ Jevon Holland ‘most versatile’ player\n",
      "#blackdiamond Tennis-Murray pulls off Oscar-winning performance to keep alive Wimbledon dreams\n",
      "#blackdiamond Fantasy Baseball Waiver Wire Pickups: Power is the priority\n",
      "#blackdiamond Ashby tagged, but Brewers sweep Cubs for 8th straight win\n",
      "#blackdiamond Brendan Gallagher left bloodied after body slam from Mikhail Sergachev\n",
      "#blackdiamond Cowboys putting faith in Tyler Biadasz as their center\n",
      "#blackdiamond Michigan To Play One Of College Football's Toughest Schedules In 2021\n",
      "#blackdiamond World champion sprinter Naser gets 2-year doping ban\n",
      "#blackdiamond Why Warriors should explore James Wiseman trade, per Brian Scalibrine\n",
      "#blackdiamond Urban Meyer: What’s difference between Tim Tebow, 40 others trying to make team?\n",
      "#blackdiamond Tyrann Mathieu: Mike Hughes has shown why he was a first-round pick\n",
      "#blackdiamond Nick Kyrgios shrugs off nasty fall in mature display to advance his Wimbledon ambitions\n",
      "#blackdiamond Novak Djokovic sends ominous Wimbledon message to rivals as history beckons\n",
      "#blackdiamond Vanderbilt AD condemns 'unacceptable' racist slurs directed toward parents at College World Series\n",
      "#blackdiamond Cubs’ Jake Arrieta rejects question about rotation job security\n",
      "#blackdiamond NBA Mock Draft, Volume 1\n",
      "#blackdiamond Alabama basketball could see two notable departures\n",
      "#blackdiamond Game Recap: Los Angeles Sparks vs. Las Vegas Aces\n",
      "#blackdiamond NBC’s Stanley Cup Finale Delivers Lackluster Numbers, Not That It Matters\n",
      "#blackdiamond Tadej Pogacar routs rivals in Tour de France time trial\n",
      "#blackdiamond News: David DeCastro, Nick Foles as Cowboys? Zack Martin’s rank? Herschel runs again?\n",
      "#blackdiamond 2021 NFL Preview: Maybe the Falcons should have traded Matt Ryan, too\n",
      "#blackdiamond Bleacher Report proposes Eric Bledsoe-Collin Sexton trade for New Orleans Pelicans\n",
      "#blackdiamond Ted Johnson: Stephon Gilmore lit a match with contract tweet\n",
      "#blackdiamond Kevin Porter Jr. tells Houston to ‘be ready’ for next NBA season\n",
      "#blackdiamond Ohio State loses out on four-star 2022 offensive lineman\n",
      "#blackdiamond Trade Rumor Rankings: Donovan Mitchell, CJ McCollum and more\n",
      "#blackdiamond Why TCU’s Ronnie Baker believes he’ll be crowned ‘world’s fastest man’ at Olympics\n",
      "#blackdiamond Zach Ertz trade rumors: Eagles’ legendary play-by-play man thinks the Bills are ‘close’ on a deal\n",
      "#blackdiamond New Jalen Hurts hype tape just dropped\n",
      "#blackdiamond Gwen Berry responds to critics of her flag protest: 'I never said I hated the country'\n",
      "#blackdiamond Ohtani flops, exits early in Yankee Stadium pitching debut\n",
      "#blackdiamond NASCAR fines six crew chiefs for lug nut infractions at Pocono\n",
      "#blackdiamond Tour de France 2021 schedule: Start time, stages, length, dates, how to watch live stream, route, TV coverage, highlights\n",
      "#blackdiamond Sean Desai has Bears defenders excited as he steps into coordinator role\n",
      "#blackdiamond Tennis-Impressive Zverev eases past Sandgren into third round\n",
      "#blackdiamond At halfway, Sox has room on bandwagon\n",
      "#blackdiamond The Best Summer Skin Care Launching in July\n",
      "#blackdiamond Golf-Thomas, Nelly Korda to lead eight-member U.S. team at Olympics\n",
      "#blackdiamond At Wimbledon, slippery Centre Court grass the story after falls, retirements\n",
      "#blackdiamond 5 deep sleepers to watch at Steelers training camp\n",
      "#blackdiamond Rocket Mortgage Classic field, by the rankings\n",
      "#blackdiamond 6 best trades in Jerry Jones’ Cowboys history\n",
      "#blackdiamond NASCAR teams navigating chaotic charter market ahead of 2022\n",
      "#blackdiamond Who is going to win Euro 2020? Our experts make their predictions\n",
      "#blackdiamond Mississippi St beats Vandy 13-2 to send CWS finals to Game 3\n",
      "#blackdiamond Soccer-Judge questions Brazil confederation over possible anti-gay prejudice\n",
      "#blackdiamond Dortmund agree Sancho transfer to Man Utd for 85 mn euros\n",
      "#blackdiamond Fantasy Football 2021: Who are the most underrated rookie running backs?\n",
      "#blackdiamond Poll: Who is going to be the Vikings’ top rookie in 2021?\n",
      "#blackdiamond Champion Celtics forward, NBA assistant James Posey very happy with Udoka hire\n",
      "#blackdiamond Team USA’s Female Athletes Will Wear Kim Kardashian’s Skims at the Olympics\n",
      "#blackdiamond Murray wades into politics over 'pathetic' pay offer to pandemic workers\n",
      "#blackdiamond Former UND star Jonathan Toews discusses what kept him away from hockey and plots his return\n",
      "#blackdiamond WATCH: LiAngelo Ball shows off new mansion in house tour\n",
      "#blackdiamond Phillies vs. Marlins: Aaron Nola just cannot get any momentum going\n",
      "#blackdiamond Lane Johnson: Eagles are going to come out swinging\n",
      "#blackdiamond U.S. Olympic tennis team named, including Coco Gauff\n",
      "#blackdiamond ESPN lists the biggest Vikings question left to be answered\n",
      "#blackdiamond Yankees' Aaron Boone says what Shohei Ohtani is doing is 'borderline impossible'\n",
      "#blackdiamond NASCAR drivers to run Trans Am race at Road America\n",
      "#blackdiamond Lawmakers demand NCAA apologize for removing NC State baseball from CWS\n",
      "#blackdiamond PFF projects passing totals for Joe Burrow, Justin Herbert and Tua Tagovailoa\n",
      "#blackdiamond Buffalo Bills predicted to sign free agent CB Steve Nelson\n",
      "#blackdiamond Some of America’s best attend Solheim Cup practice session ahead of LPGA stop in Texas\n",
      "#blackdiamond Former Penn State wide receiver transfer to PAC-12 school\n",
      "#blackdiamond Former Wisconsin G Kobe King commits to Valparaiso, will play with two former Badgers\n",
      "#blackdiamond College Football News Preseason All-Pac-12 Football Team: Preview 2021\n",
      "#blackdiamond Lamar Jackson praises Ravens’ defense, says he’s ‘tired’ of seeing them already\n",
      "#blackdiamond Name, Image and Likeness armageddon is here\n",
      "#blackdiamond Soccer-China handed tough draw in World Cup preliminaries\n"
     ]
    }
   ],
   "source": [
    "#with open(\"news_html_test/Business News Headlines _ Reuters.html\") as fp:\n",
    "with open(\"news_html_test/Yahoo! Sports - News, Scores, Standings, Rumors, Fantasy Games.html\") as fp:    \n",
    "    soup = BeautifulSoup(fp, \"lxml\")\n",
    "    #news_tags = soup.find_all(\"h3\", re.compile(\"story-title\"), string=True)\n",
    "    news_tags = soup.find_all(\"a\", re.compile(\"js-content-viewer\"))\n",
    "    print(\"#blackdiamond \" + str(len(news_tags)))\n",
    "    for nc in news_tags:\n",
    "        #print(\"#blackdiamond \" + nc.string.strip())\n",
    "        if len(nc.contents) == 4:\n",
    "            print(\"#blackdiamond \" + nc.contents[2].string.strip())"
   ]
  },
  {
   "cell_type": "code",
   "execution_count": null,
   "id": "628e3a13-cdc7-4167-9dab-38902425785d",
   "metadata": {},
   "outputs": [],
   "source": [
    "def scrape_other_news(file_name, category, news_list):\n",
    "    with open(file_name) as fp:\n",
    "        soup = BeautifulSoup(fp, \"lxml\")\n",
    "        news_tags = soup.find_all(\"span\", re.compile(\"headline\"), string=True)\n",
    "        for nc in news_tags:\n",
    "            if nc is not None:\n",
    "                news_list.append(News(nc.string.strip(), category))"
   ]
  },
  {
   "cell_type": "code",
   "execution_count": 249,
   "id": "1fcc0ed6-091a-459d-8400-7b2229ebfc6e",
   "metadata": {},
   "outputs": [],
   "source": [
    "def student(firstname, lastname, standard ='Fifth'):\n",
    "    print(firstname, lastname, 'studies in', standard, 'Standard')"
   ]
  },
  {
   "cell_type": "code",
   "execution_count": 251,
   "id": "d3880c24-c66f-4b13-b59c-ec995c2baff9",
   "metadata": {},
   "outputs": [
    {
     "name": "stdout",
     "output_type": "stream",
     "text": [
      "John Gates studies in Seventh Standard\n",
      "John Gates studies in Fifth Standard\n",
      "John Seventh studies in Fifth Standard\n"
     ]
    }
   ],
   "source": [
    "#1 positional argument\n",
    "#student('John')\n",
    " \n",
    "# 3 positional arguments                        \n",
    "student('John', 'Gates', 'Seventh')    \n",
    " \n",
    "# 2 positional arguments \n",
    "student('John', 'Gates')                 \n",
    "student('John', 'Seventh')"
   ]
  },
  {
   "cell_type": "code",
   "execution_count": null,
   "id": "d8ab9031-da84-4971-a1a7-12fc8196b89c",
   "metadata": {},
   "outputs": [],
   "source": []
  }
 ],
 "metadata": {
  "kernelspec": {
   "display_name": "Python 3",
   "language": "python",
   "name": "python3"
  },
  "language_info": {
   "codemirror_mode": {
    "name": "ipython",
    "version": 3
   },
   "file_extension": ".py",
   "mimetype": "text/x-python",
   "name": "python",
   "nbconvert_exporter": "python",
   "pygments_lexer": "ipython3",
   "version": "3.7.10"
  }
 },
 "nbformat": 4,
 "nbformat_minor": 5
}
